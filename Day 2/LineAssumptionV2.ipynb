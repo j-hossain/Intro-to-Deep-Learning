{
  "nbformat": 4,
  "nbformat_minor": 0,
  "metadata": {
    "colab": {
      "name": "LineAssumptionV2.ipynb",
      "provenance": [],
      "collapsed_sections": [],
      "include_colab_link": true
    },
    "kernelspec": {
      "name": "python3",
      "display_name": "Python 3"
    },
    "language_info": {
      "name": "python"
    }
  },
  "cells": [
    {
      "cell_type": "markdown",
      "metadata": {
        "id": "view-in-github",
        "colab_type": "text"
      },
      "source": [
        "<a href=\"https://colab.research.google.com/github/j-hossain/Intro-to-Deep-Learning/blob/main/Day%202/LineAssumptionV2.ipynb\" target=\"_parent\"><img src=\"https://colab.research.google.com/assets/colab-badge.svg\" alt=\"Open In Colab\"/></a>"
      ]
    },
    {
      "cell_type": "code",
      "execution_count": 1,
      "metadata": {
        "id": "yitlha1UimxW"
      },
      "outputs": [],
      "source": [
        "import tensorflow as tf\n",
        "import numpy as np\n",
        "import matplotlib.pyplot as plt\n",
        "from IPython.display import clear_output\n",
        "import time"
      ]
    },
    {
      "cell_type": "markdown",
      "source": [
        "### Building a dataset"
      ],
      "metadata": {
        "id": "dDjOKyerisZe"
      }
    },
    {
      "cell_type": "code",
      "source": [
        "Sx = np.array([0, 1, 2.5, 3, 4, 5], dtype=np.float32)\n",
        "Sy = np.array([0.6, 0, 2, 2.2, 4.7, 5], dtype=np.float32)\n",
        "\n",
        "# Plotting in graph\n",
        "plt.scatter(Sx, Sy)\n",
        "\n",
        "# Graph axis names and grids\n",
        "plt.grid(True)\n",
        "plt.xlabel('Sx')\n",
        "plt.ylabel('Sy')"
      ],
      "metadata": {
        "colab": {
          "base_uri": "https://localhost:8080/",
          "height": 296
        },
        "id": "3FKdszaVirdC",
        "outputId": "28709aed-be25-46e7-8e77-be1c001619ff"
      },
      "execution_count": 2,
      "outputs": [
        {
          "output_type": "execute_result",
          "data": {
            "text/plain": [
              "Text(0, 0.5, 'Sy')"
            ]
          },
          "metadata": {},
          "execution_count": 2
        },
        {
          "output_type": "display_data",
          "data": {
            "text/plain": [
              "<Figure size 432x288 with 1 Axes>"
            ],
            "image/png": "[encoded data removed]"
          },
          "metadata": {
            "needs_background": "light"
          }
        }
      ]
    },
    {
      "cell_type": "markdown",
      "source": [
        "#### How can we get a line that goes through all the points given in the above graph?\n",
        "\n",
        "We can not achieve this using a single straight line. What if we can combine multiple straight lines?"
      ],
      "metadata": {
        "id": "s3kCdfnTmRdT"
      }
    },
    {
      "cell_type": "markdown",
      "source": [
        "Lets assume a straight line \n",
        "\n",
        "$$y = wx + c$$\n",
        "\n",
        "We can build a polynomial by merging multiple straing lines using the the following equations:\n",
        "\n",
        "$$\n",
        "l_0 = \\sigma (w_0x + c_0) \\\\\n",
        "l_1 = \\sigma (w_1x + c_1) \\\\\n",
        "l_2 = w_2l_0 + w_3l_1 + c_2 \\\\\n",
        "$$\n",
        "Here,\n",
        "$$\n",
        "\\sigma(x) = \\frac{1}{1+e^{-x}}\n",
        "$$\n",
        "\n",
        "Now, $l_2$ is a polynomial with multiple straight lines."
      ],
      "metadata": {
        "id": "HyQCP2XokTqq"
      }
    },
    {
      "cell_type": "code",
      "source": [
        "\n",
        "w0 = tf.Variable(1.2, dtype=tf.float32)\n",
        "w1 = tf.Variable(2., dtype=tf.float32)\n",
        "w2 = tf.Variable(-0.5, dtype=tf.float32)\n",
        "w3 = tf.Variable(1.2, dtype=tf.float32)\n",
        "w4 = tf.Variable(1.2, dtype=tf.float32)\n",
        "w5 = tf.Variable(1.2, dtype=tf.float32)\n",
        "w6 = tf.Variable(1.2, dtype=tf.float32)\n",
        "w7 = tf.Variable(1.2, dtype=tf.float32)\n",
        "w8 = tf.Variable(1.2, dtype=tf.float32)\n",
        "w9 = tf.Variable(1.2, dtype=tf.float32)\n",
        "\n",
        "c0 = tf.Variable(1.2, dtype=tf.float32)\n",
        "c1 = tf.Variable(2, dtype=tf.float32)\n",
        "c2 = tf.Variable(0.8, dtype=tf.float32)\n",
        "c3 = tf.Variable(0.8, dtype=tf.float32)\n",
        "c4 = tf.Variable(0.8, dtype=tf.float32)\n",
        "c5 = tf.Variable(0.8, dtype=tf.float32)\n",
        "c6 = tf.Variable(0.8, dtype=tf.float32)\n",
        "\n",
        "\n",
        "def line_fn(x):\n",
        "    l0 = tf.nn.sigmoid(w0*x + c0)\n",
        "    l1 = tf.nn.sigmoid(w1*x + c1)\n",
        "    l2 = tf.nn.sigmoid(w2*l0 + w3*l1 + c2)\n",
        "    l3 = tf.nn.sigmoid(w4*x + c3)\n",
        "    l4 = tf.nn.sigmoid(w5*x + c4)\n",
        "    l5 = tf.nn.sigmoid(w6*l3 + w7*l4 + c5)\n",
        "    l6 = w8*l2 + w9*l5 + c6\n",
        "\n",
        "    return l6"
      ],
      "metadata": {
        "id": "TXXK2p4Gi9-0"
      },
      "execution_count": 23,
      "outputs": []
    },
    {
      "cell_type": "code",
      "source": [
        "# A function which would plot the line\n",
        "\n",
        "def plot_line():\n",
        "    clear_output(wait=True)\n",
        "    p = np.arange(0, 5.2, 0.1)\n",
        "    plt.plot(p, line_fn(p).numpy())\n",
        "\n",
        "    # Plotting in graph\n",
        "    plt.scatter(Sx, Sy)\n",
        "\n",
        "    # Graph axis names and grids\n",
        "    plt.grid(True)\n",
        "    plt.xlabel('Sx')\n",
        "    plt.ylabel('Sy')\n",
        "    plt.show()\n",
        "\n",
        "plot_line()"
      ],
      "metadata": {
        "colab": {
          "base_uri": "https://localhost:8080/",
          "height": 279
        },
        "id": "fOmpTrMpoTPV",
        "outputId": "f1f3d7d7-f67d-4854-ce37-8dff1f0ea167"
      },
      "execution_count": 27,
      "outputs": [
        {
          "output_type": "display_data",
          "data": {
            "text/plain": [
              "<Figure size 432x288 with 1 Axes>"
            ],
            "image/png": "[encoded data removed]"
          },
          "metadata": {
            "needs_background": "light"
          }
        }
      ]
    },
    {
      "cell_type": "markdown",
      "source": [
        "## Gradient descending algorithm:\n",
        "$$m_{t} = m_{t-1} - lr \\; \\frac{\\partial \\;\\; loss(l(x), y)}{\\partial m} $$\n",
        "\n",
        "$$loss(l(x), y) = (l(x) - y)^2$$\n",
        "\n",
        "#### Here,\n",
        "\n",
        "* $t$ = Time step\n",
        "* $x$ = Input\n",
        "* $y$ = Output\n",
        "* $m$ = Updatable variable\n",
        "* $loss(\\cdot, \\cdot)$ = Loss function\n",
        "* $lr$ = Learning rate\n",
        "* $l(\\cdot)$ = Line function"
      ],
      "metadata": {
        "id": "uIYUfoD88l3F"
      }
    },
    {
      "cell_type": "code",
      "source": [
        "# learning rate\n",
        "lr = 1\n",
        "total_steps = 30000\n",
        "\n",
        "for step in range(total_steps):\n",
        "    #print(f\"Step {step+1:2}:\")\n",
        "    #print(\"-\"*30)\n",
        "\n",
        "    with tf.GradientTape() as tape:\n",
        "        # Stating what variables need to be partially differentiated and calibrated\n",
        "        tape.watch([w0,w1,w2,w3,w4,w5,w6,w7,w8,w9,c0,c1,c2,c3,c4,c5,c6])\n",
        "\n",
        "        # Passing the points to the line function\n",
        "        pred_y = line_fn(Sx)\n",
        "\n",
        "        # Calculating the difference/loss of the output (pred_y) of the function\n",
        "        # w.r.t. the known output (Sy)\n",
        "        loss = (pred_y - Sy) * (pred_y - Sy)\n",
        "\n",
        "    # Calculating the gradients w.r.t. the partially diff. parameters\n",
        "    # and the generated output loss\n",
        "    grads = tape.gradient(loss, [w0,w1,w2,w3,w4,w5,w6,w7,w8,w9,c0,c1,c2,c3,c4,c5,c6])\n",
        "    \n",
        "    # For some values, the gradient values can be very big, we call it \n",
        "    # exploding gradients. To tackle such problem we are clipping the values to 1\n",
        "    grads = tf.clip_by_norm(grads, 1)\n",
        "\n",
        "    # Updating the gradients\n",
        "    w0 = w0 - lr * grads[0]\n",
        "    w1 = w1 - lr * grads[1]\n",
        "    w2 = w2 - lr * grads[2]\n",
        "    w3 = w3 - lr * grads[3]\n",
        "    w4 = w4 - lr * grads[4]\n",
        "    w5 = w5 - lr * grads[5]\n",
        "    w6 = w6 - lr * grads[6]\n",
        "    w7 = w7 - lr * grads[7]\n",
        "    w8 = w8 - lr * grads[8]\n",
        "    w9 = w9 - lr * grads[9]\n",
        "    c0 = c0 - lr * grads[10]\n",
        "    c1 = c1 - lr * grads[11]\n",
        "    c2 = c2 - lr * grads[12]\n",
        "    c3 = c3 - lr * grads[13]\n",
        "    c4 = c4 - lr * grads[14]\n",
        "    c5 = c5 - lr * grads[15]\n",
        "    c6 = c6 - lr * grads[16]\n",
        "    \n",
        "    if step%1000 == 0:\n",
        "        plot_line()\n",
        "        print(f\"Step {step+1:2}:\")\n",
        "        print(f\"Loss: {sum(loss)}\")\n",
        "        print(f\"Lr: {lr:.4f}\")\n",
        "        #time.sleep(0.25)\n",
        "        lr -= lr * 0.1"
      ],
      "metadata": {
        "colab": {
          "base_uri": "https://localhost:8080/",
          "height": 331
        },
        "id": "n3HPcI68kPXS",
        "outputId": "83e7489b-c880-4b32-b49c-923ce151ca18"
      },
      "execution_count": 28,
      "outputs": [
        {
          "output_type": "display_data",
          "data": {
            "text/plain": [
              "<Figure size 432x288 with 1 Axes>"
            ],
            "image/png": "[encoded data removed]"
          },
          "metadata": {
            "needs_background": "light"
          }
        },
        {
          "output_type": "stream",
          "name": "stdout",
          "text": [
            "Step 29001:\n",
            "Loss: 4.121147867408581e-13\n",
            "Lr: 0.0471\n"
          ]
        }
      ]
    },
    {
      "cell_type": "markdown",
      "source": [
        "## Lets check the final result"
      ],
      "metadata": {
        "id": "TxHoUb4VBARF"
      }
    },
    {
      "cell_type": "code",
      "source": [
        "plot_line()"
      ],
      "metadata": {
        "colab": {
          "base_uri": "https://localhost:8080/",
          "height": 279
        },
        "id": "rh5HNbytmd6W",
        "outputId": "7c90ef47-ef86-4a4c-929c-03ad0f5728ee"
      },
      "execution_count": 29,
      "outputs": [
        {
          "output_type": "display_data",
          "data": {
            "text/plain": [
              "<Figure size 432x288 with 1 Axes>"
            ],
            "image/png": "[encoded data removed]"
          },
          "metadata": {
            "needs_background": "light"
          }
        }
      ]
    },
    {
      "cell_type": "markdown",
      "source": [
        "Play with the following link with different number of hidden layers and activations:\n",
        "https://playground.tensorflow.org/\n",
        "\n",
        "Also, read this blog while playing:\n",
        "https://cloud.google.com/blog/products/ai-machine-learning/understanding-neural-networks-with-tensorflow-playground"
      ],
      "metadata": {
        "id": "LX2aovNdwg5r"
      }
    }
  ]
}